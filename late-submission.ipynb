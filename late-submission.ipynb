{
 "cells": [
  {
   "cell_type": "markdown",
   "id": "f0550c28-2302-4b89-9332-e212085880c8",
   "metadata": {},
   "source": [
    "# ВОРКШОП от компании Samokat.tech\n",
    "\n",
    "## Описание проекта\n",
    "\n",
    "    Задача от Яндекс.Практикум и Samokat.tech – реализовать векторный поиск и решить усечённую задачу матчинга.\n",
    "    \n",
    "    Про векторный поиск\n",
    "    Векторный поиск - поиск ближайших N товаров из коллекции base для каждого товара из query.\n",
    "    На многомиллионных данных полезно использовать зарекомендовавшие себя реализации векторного поиска. Одной из таких реализаций является FAISS.\n",
    "    \n",
    "    Про матчинг\n",
    "    Конечная цель матчинга заключается в определении, являются ли два или более предмета эквивалентными или одним и тем же объектом. \n",
    "    В контексте задачи матчинга в базе данных (base) хранится информация о продуктах, которые могут быть предложены для покупки. Запрос (query) представляет из себя набор конкретных продуктов, для которых необходимо найти соответствие в базе данных. \n",
    "    \n",
    "    Задача состоит в том, чтобы автоматически сопоставить запрос с подходящим элементом из базы данных и предоставить пользователю наиболее релевантный результат. Это позволяет снизить дублирование товаров и упростить процесс управления продуктами, что способствует увеличению эффективности и экономии времени.\n",
    "\n",
    "### Цель\n",
    "\n",
    "Разработка решения поиска в базе 10 образцов с максимальным соответствием\n",
    "\n",
    "### Задачи\n",
    "\n",
    "- изучить данные\n",
    "- подготовить решение\n",
    "- принять участие в соревновании на [платформе Kaggle](https://www.kaggle.com/competitions/samokattechworkshop)\n",
    "- передать заказчику оформленное решение в виде [репозитория на GitHub](https://github.com/artefucktor/samokat_workshop)\n",
    "\n",
    "### Данные\n",
    "\n",
    "- base.csv словарь с векторами товаров\n",
    "- train.csv тренировочная выборка с правильным соответствием запроса и ответа из словаря\n",
    "- test.csv тестовая выборка, для которой надо найти соответствие\n",
    "- answer_sample.csv образец предсказаний, необходимо для каждого запроса предоставить 10 ответов, объединенных в строку\n",
    "\n",
    "---\n",
    "\n"
   ]
  },
  {
   "cell_type": "markdown",
   "id": "f34c20e5-de02-40b6-b445-9236a1419bd4",
   "metadata": {},
   "source": [
    "## Практическая часть\n",
    "\n",
    "### Изучение признаков\n",
    "\n",
    "- Были построены и протестированы индивидуальные индексы для каждого признака в отдельности.\n",
    "- Соединены base и train по соответствию таргета индексу базы и проверена корреляция всех признаков между этими выборками.\n",
    "- Построены гистограммы всех признаков.\n",
    "\n",
    "### Особенности\n",
    "\n",
    "В целом все корреляции примерно на одном уровне, большинство признаков имеют нормальное распределение.\n",
    "- единичный нормальный признак дает recall примерно 0.010-0.011\n",
    "\n",
    "Выявлены странные признаки – у них ненормальное распределение и низкая корреляция между соответствующими образцами в базе и в учебной выборке.\n",
    "- признаки 33 и 59 дали вообще нулевой recall\n",
    "- признаки 21, 25, 33, 44 очень низкий результат примерно 0.003-0.008\n",
    "- признак 65 на индивидуальном тестировании дает recall 0.011 на уровне среднего, но имеет слабую корреляцию\n",
    "- признаки 6 и 70 на первый взгляд похожи на плохие, они имеют ненормальное распределение, сниженный коэффициент корреляции, но при индивидуальном тестировании у них внезапно высокий recall – 0.013 у шестого и особенно 0.028 у семидесятого признака, то есть более чем вдвое выше остальных! Это очень важный признак, и его особенность надо использовать! Но как?\n",
    "\n",
    "Графическое представление выявленных особенностей очень громоздкое и вынесено за пределы тетрадки, файлы с картинками доступны отдельно в [репозитории](https://github.com/artefucktor/samokat_workshop) и по прямым ссылкам:\n",
    "- Гистограммы распределения признаков https://github.com/artefucktor/samokat_workshop/blob/main/histogram.png\n",
    "- Recall для каждого признака при индивидуальном тестировании https://github.com/artefucktor/samokat_workshop/blob/main/single_recall.png\n",
    "- Корреляции между признаками в train и base https://github.com/artefucktor/samokat_workshop/blob/main/corr_heatmap.png\n",
    "\n",
    "### Решение\n",
    "\n",
    "#### Индекс\n",
    "Для улучшения качества поиска:\n",
    "- из индекса исключены признаки 21, 25, 33, 44, 59, 65\n",
    "- проведено масштабирование с помощью StandardScaler\n",
    "\n",
    "Были протестированы различные комбинации признаков.\n",
    "- Поиск по основным признакам дает recall 0.60 на обучающей выборке\n",
    "- Поиск по выделенным признакам 6 и 70 дает recall 0.28\n",
    "- На обучающей выборке:\n",
    "    - результаты основного и дополнительного индекса отличаются в 80% случаев\n",
    "    - почти 9% случаев, когда предсказания не совпали и прав именно дополнительный индекс\n",
    "\n",
    "Это можно использовать для повышения общего скора, но надо научиться определять когда основной поиск является ошибочным, и с какой вероятностью именно дополнительный результат является верным.\n",
    "\n",
    "#### Классификация\n",
    "В процессе многочисленных экспериментов выявлено что основой для классификации может быть отдельная мини выборка\n",
    "- предсказание по индексу faiss построенному из двух признаков 6 и 70\n",
    "- сходство (или его отсутствие?) cosine similarity между предсказанными ответами основного и дополнительного индекса\n",
    "- комбинация странных признаков 6, 70 и отбракованных 33, 44\n",
    "\n",
    "Далее необходимо решить задачу классификации для ответа на вопросы – поиск по какому индексу является верным и как избежать потери правильных ответов? Будем руководствоваться такой логикой – если предсказания совпали, то классификация не имеет значения, если не совпали, тогда опираемся на решение классификатора.\n",
    "\n",
    "В целевую переменную поместим условие – верным ответом является дополнительный.\n",
    "На основе этих данных построена и протестирована модель XGBClassifier. Для более точной работы добавлен гиперпараметр scale_pos_weight для дисбаланса классов. Скорректирован порог threshold.\n",
    "\n",
    "Соответственно, выполняем два поиска – по основному индексу с нормальными признаками и по дополнительному с признаками 6 и 70. Выполняем классификацию, при положительном ответе классификатора верным предсказанием считаем дополнительное и корректируем итоговый submission.\n",
    "\n",
    "### Какие подходы не сработали\n",
    "\n",
    "- Пересортировка полученных ответов по distance, перерасчет расстояний, косинусных, евклидовых...\n",
    "- Использование других инструментов для мэтчинга, sentence_transformers.util.semantic_search, annoy, sklearn.metrics.pairwise.cosine_similarity, scipy.spatial.distance...\n",
    "- Оптимизация faiss, normalizer, кластеризация, метод главных компонент...\n",
    "\n",
    "В условиях ограниченного ресурса пришлось отказаться от громоздких экспериментов, медленных или излишне замороченных реализаций, которые приносят микроскопический результат, неадекватный затраченным усилиям.\n",
    "\n",
    "А еще не хватило терпения оптимизировать код и сократить его дублирование вдвое, потому что уже и так хорошо. Работает – не трогай :)\n",
    "\n",
    "---\n",
    "\n",
    "## Заключение\n",
    "### Выводы\n",
    "\n",
    "Модуль faiss – топчик!\n",
    "\n",
    "Вижу потенциал в улучшении классификации. Альтернативный индекс может добавить 8-9% верных ответов, не найденных основным индексом. На данный момент, манипулируя порогом классификации, удалось получить прирост всего 2-3% к среднему уровню 74-75% верных ответов.\n",
    "\n",
    "Возможно, признаки 6 и 70 являются не товарами, а категориями? В любом случае, на мой взгляд для улучшения поиска имеет смысл попробовать выявить триггеры, которые позволят быстро переключаться с одного индекса на другой более релевантный.\n",
    "\n",
    "### Результат\n",
    "\n",
    "На ЛБ получен скор 0.77447 на паблике и 0.77120 на привате, то есть сейчас такой комбинированный подход позволяет найти 77% верных ответов.\n",
    "\n",
    "Ссылка на воркшоп на платформе kaggle https://www.kaggle.com/competitions/samokattechworkshop\n",
    "\n",
    "\n",
    "\n",
    ">### <em>Дополнение\n",
    ">\n",
    "> <em>Обменялись опытом с [Владиславом Струниным](https://github.com/struninvs/Yandex-Practicum/tree/master/Vector-search-in-the-matching-problem) – прикрутим его идею измерять расстояние от предсказанного до base вместо бывшего у меня косинусного сходства между сэмплами.\n",
    ">\n",
    "><em>Качество классификации на трейне выросло до 99.5% и late submission на кагле 0.78088 public и privat 0.77986\n",
    ">\n",
    "><em>Предполагаю, что на трейне задача решается точнее потому что один ответ нужен, а не 10 как в тесте. Скорее всего если каждый из десяти ответов отдельно классифицировать, то качество предсказаний повысится.\n",
    "\n",
    ">### <em>Дополнение #2\n",
    "> <em>Попробовала в классификатор подать совпадение сомнительных признаков, а их сами убрать – стало хуже. Думаем дальше )\n",
    "\n",
    "---"
   ]
  },
  {
   "cell_type": "code",
   "execution_count": 1,
   "id": "5daf5250",
   "metadata": {
    "tags": []
   },
   "outputs": [],
   "source": [
    "import os\n",
    "\n",
    "import numpy as np\n",
    "import pandas as pd\n",
    "\n",
    "import matplotlib.pyplot as plt\n",
    "\n",
    "from sklearn.metrics import roc_curve\n",
    "from sklearn.model_selection import cross_val_score, cross_val_predict\n",
    "from sklearn.preprocessing import StandardScaler\n",
    "from sklearn.pipeline import Pipeline\n",
    "from sklearn.metrics.pairwise import paired_distances\n",
    "\n",
    "from sentence_transformers import util\n",
    "\n",
    "import faiss\n",
    "import xgboost\n"
   ]
  },
  {
   "cell_type": "code",
   "execution_count": 2,
   "id": "ee79e052",
   "metadata": {
    "tags": []
   },
   "outputs": [],
   "source": [
    "DATA_DIR = \"samokattechworkshop/\""
   ]
  },
  {
   "cell_type": "code",
   "execution_count": 3,
   "id": "1804e066",
   "metadata": {
    "tags": []
   },
   "outputs": [],
   "source": [
    "base = pd.read_csv(f\"{DATA_DIR}base.csv\", index_col=\"Id\")\n",
    "train = pd.read_csv(f\"{DATA_DIR}train.csv\", index_col=\"Id\")\n",
    "test = pd.read_csv(f\"{DATA_DIR}test.csv\", index_col=\"Id\")"
   ]
  },
  {
   "cell_type": "code",
   "execution_count": 4,
   "id": "726e3811",
   "metadata": {
    "tags": []
   },
   "outputs": [],
   "source": [
    "def faiss_search(index, df, pre, num):\n",
    "    \"\"\"Поиск в индексе\n",
    "    \n",
    "    Принимает:\n",
    "    index -- faiss индекс\n",
    "    df -- выборка для поиска\n",
    "    pre -- препроцессинг\n",
    "    num -- сколько образцов надо получить\n",
    "\n",
    "    Возвращает объединенную строку с образцами \n",
    "    \"\"\"\n",
    "    global base\n",
    "    D, I = index.search(pre.transform(df), num)\n",
    "    preds = pd.DataFrame(I, index=df.index)\n",
    "    for col in preds:\n",
    "        preds[col] = base.iloc[preds[col].values].index.to_list()\n",
    "    return preds.agg(\" \".join, axis=1)"
   ]
  },
  {
   "cell_type": "code",
   "execution_count": 5,
   "id": "45fcdc10-a656-4b47-bc02-81ee981d0e7e",
   "metadata": {},
   "outputs": [],
   "source": [
    "def distance(preds, features):\n",
    "    \"\"\"Euclidean distance between predicted sample and base\"\"\"\n",
    "    \n",
    "    global base\n",
    "    dist = np.zeros(preds.shape)\n",
    "    for i in [0,1]:\n",
    "        preds_splitted = preds[preds.columns[i]].str.split(expand=True)\n",
    "        dist_by_sample = pd.DataFrame()\n",
    "        for col in preds_splitted:\n",
    "            dist_by_sample[col] = paired_distances(features, base.loc[preds_splitted[col].values, features.columns], n_jobs=-1)\n",
    "        dist[:,i] = dist_by_sample.min(axis=1)  # минимальная дистанция из 10 образцов дала более высокий скор\n",
    "            \n",
    "    return dist\n"
   ]
  },
  {
   "cell_type": "code",
   "execution_count": 6,
   "id": "3b657cfa-3636-45dc-9de8-993c6087b818",
   "metadata": {
    "tags": []
   },
   "outputs": [],
   "source": [
    "# обозначим колонки для работы, целевой признак\n",
    "# соберем комплекты данных основной и дополнительный\n",
    "\n",
    "to_drop = [\"21\", \"25\", \"33\", \"44\", \"59\", \"65\"]    # базовый прирост метрики обеспечен удалением этих признаков\n",
    "\n",
    "# чтобы не было путаницы где дропаем, а где выбираем, приводим список колонок к единому виду – только выбираем :)\n",
    "include_main = [col for col in base.columns if col not in to_drop]\n",
    "include_670 = [\"6\", \"70\"]\n",
    "preds_name = [\"preds_main\", \"preds_670\"]\n",
    "\n",
    "base_main = base[include_main]\n",
    "base_670 = base[include_670]\n",
    "\n",
    "train_main = train[include_main]\n",
    "train_670 = train[include_670]\n",
    "\n",
    "target = train.Target\n",
    "\n",
    "test_main = test[include_main]\n",
    "test_670 = test[include_670]"
   ]
  },
  {
   "cell_type": "code",
   "execution_count": 7,
   "id": "d9731ce5-6633-45ce-b65a-be2076f9c616",
   "metadata": {},
   "outputs": [],
   "source": [
    "# подготовим пайплайны для предобработки\n",
    "# здесь были разные эксперименты, но осталось только стандартное масштабирование\n",
    "\n",
    "pipe_main = Pipeline([\n",
    "    ('scale', StandardScaler())    # масштабирование прибавляет пару процентов\n",
    "])\n",
    "\n",
    "pipe_670 = Pipeline([\n",
    "    ('scale', StandardScaler())\n",
    "])\n"
   ]
  },
  {
   "cell_type": "code",
   "execution_count": 8,
   "id": "ef827580-1ed7-4f4a-b162-a2557e8f91f5",
   "metadata": {
    "tags": []
   },
   "outputs": [],
   "source": [
    "# подготовим основной и дополнительный индекс faiss\n",
    "base_main_scaled = pipe_main.fit_transform(base_main)\n",
    "index_main = faiss.IndexFlatL2(base_main_scaled.shape[1])\n",
    "index_main.add(base_main_scaled)\n",
    "\n",
    "base_670_scaled = pipe_670.fit_transform(base_670)\n",
    "index_670 = faiss.IndexFlatL2(base_670_scaled.shape[1])\n",
    "index_670.add(base_670_scaled)"
   ]
  },
  {
   "cell_type": "code",
   "execution_count": null,
   "id": "ace5debc-f677-4f74-98ea-75236e7f4a5a",
   "metadata": {
    "tags": []
   },
   "outputs": [],
   "source": [
    "# выбираем из индексов предсказания – по основному и дополнительному\n",
    "# объединяем их в датафрейм и добавим колонки для обучения классификатора\n",
    "# выведем какую долю правильных образцов удалось найти по основому индексу\n",
    "preds = pd.DataFrame({\n",
    "    \"preds_main\": faiss_search(index_main, train_main, pipe_main, 1),\n",
    "    \"preds_670\": faiss_search(index_670, train_670, pipe_670, 1)\n",
    "    })\n",
    "\n",
    "preds[[\"dist_main\",\"dist_670\"]] = distance(preds[preds_name], train[include_main])\n",
    "preds[[\"6\", \"33\", \"44\", \"70\"]] = train[[\"6\", \"33\", \"44\", \"70\"]]\n",
    "preds[\"real_target\"] = target\n",
    "\n",
    "preds[\"maybe\"] = (preds.preds_670 == preds.real_target).astype('int')\n",
    "(preds[\"real_target\"]==preds[\"preds_main\"]).sum()/preds.shape[0]"
   ]
  },
  {
   "cell_type": "code",
   "execution_count": 25,
   "id": "5c6d7095-254d-461a-99af-03e783ddfa64",
   "metadata": {},
   "outputs": [
    {
     "data": {
      "text/plain": [
       "3.4965034965034967"
      ]
     },
     "execution_count": 25,
     "metadata": {},
     "output_type": "execute_result"
    }
   ],
   "source": [
    "# подготовим список признаков для модели и колонку таргета\n",
    "# посчитаем scale_pos_weight – полезно для xgboost при дисбалансе классов\n",
    "to_ml = [\"6\", \"33\", \"44\", \"70\", \"dist_main\", \"dist_670\"]\n",
    "ml_target = \"maybe\"\n",
    "scale_pos_weight = preds.shape[0]/preds[\"maybe\"].sum() # это добавило несколько тысячных на ЛБ\n",
    "scale_pos_weight\n"
   ]
  },
  {
   "cell_type": "code",
   "execution_count": 26,
   "id": "afd52668-b682-43d0-8058-f830eb8babc7",
   "metadata": {
    "tags": []
   },
   "outputs": [
    {
     "name": "stdout",
     "output_type": "stream",
     "text": [
      "CPU times: user 2 µs, sys: 1e+03 ns, total: 3 µs\n",
      "Wall time: 8.34 µs\n"
     ]
    },
    {
     "data": {
      "text/plain": [
       "array([0.98689064, 0.98777835, 0.98695804])"
      ]
     },
     "execution_count": 26,
     "metadata": {},
     "output_type": "execute_result"
    }
   ],
   "source": [
    "%time\n",
    "# посмотрим на кросс-валидацию с метрикой recall\n",
    "gbc = xgboost.XGBClassifier(random_state=7, scale_pos_weight=scale_pos_weight)\n",
    "cross_val_score(gbc, \n",
    "                preds[to_ml], \n",
    "                y=preds[ml_target], \n",
    "                scoring=\"roc_auc\", \n",
    "                n_jobs=-1, \n",
    "                cv=3)\n"
   ]
  },
  {
   "cell_type": "code",
   "execution_count": 27,
   "id": "9bd2440a-7f92-449b-9ea2-2b2fcf7c6f6a",
   "metadata": {
    "tags": []
   },
   "outputs": [
    {
     "data": {
      "text/plain": [
       "dist_670     0.950387\n",
       "dist_main    0.049613\n",
       "6            0.000000\n",
       "33           0.000000\n",
       "44           0.000000\n",
       "70           0.000000\n",
       "dtype: float32"
      ]
     },
     "execution_count": 27,
     "metadata": {},
     "output_type": "execute_result"
    }
   ],
   "source": [
    "# обучим классификатор на полном трейне и посмотрим на важность признаков\n",
    "gbc.fit(preds[to_ml], y=preds[ml_target])\n",
    "pd.Series(gbc.feature_importances_, index=to_ml).sort_values(ascending=False)"
   ]
  },
  {
   "cell_type": "code",
   "execution_count": 28,
   "id": "909711b5-64eb-42bb-bd2c-0021cb21c3b1",
   "metadata": {
    "tags": []
   },
   "outputs": [
    {
     "data": {
      "image/png": "[encoded data removed]",
      "text/plain": [
       "<Figure size 640x480 with 1 Axes>"
      ]
     },
     "metadata": {},
     "output_type": "display_data"
    },
    {
     "name": "stdout",
     "output_type": "stream",
     "text": [
      "0.5391532\n"
     ]
    }
   ],
   "source": [
    "# посмотрим на roc кривую и уточним оптимальный порог\n",
    "fpr, tpr, thresholds = roc_curve(\n",
    "    preds[ml_target],\n",
    "    gbc.predict_proba(preds[to_ml])[:, 1]\n",
    "    # cross_val_predict(gbc, preds[to_ml], y=preds[ml_target], n_jobs=-1, cv=3, method='predict_proba')[:, 1]\n",
    "    )\n",
    "# все время получается что порог рассчитанный на трейне дает более качественный результат, чем с cv\n",
    "\n",
    "J = tpr - fpr\n",
    "ix = np.argmax(J)\n",
    "best_thresh = thresholds[ix]\n",
    "\n",
    "plt.plot([0, 1], [0, 1], linestyle=\"--\", label=\"No Skill\")\n",
    "plt.plot(fpr, tpr, marker=\".\", label=\"XGB\")\n",
    "plt.title('ROC curve')\n",
    "plt.scatter(fpr[ix], tpr[ix], marker=\"o\", color=\"black\", label=\"Best\")\n",
    "plt.xlabel(\"False Positive Rate\")\n",
    "plt.ylabel(\"True Positive Rate\")\n",
    "plt.legend()\n",
    "plt.show()\n",
    "\n",
    "print(best_thresh)"
   ]
  },
  {
   "cell_type": "code",
   "execution_count": 14,
   "id": "a2e8c6eb-56ef-4076-963d-0caa0bc56c1f",
   "metadata": {},
   "outputs": [],
   "source": [
    "try:\n",
    "    os.system('say model training completed');\n",
    "except:\n",
    "    pass"
   ]
  },
  {
   "cell_type": "code",
   "execution_count": 15,
   "id": "6060d242-5ced-4792-a598-675ef07c7e7f",
   "metadata": {
    "tags": []
   },
   "outputs": [],
   "source": [
    "# готовим submission\n",
    "# выполняем поиск по индексу – основные признаки и дополнительные\n",
    "# объединяем предсказания в датафрейм\n",
    "# проверяем классификатором, какие ответы можно скорректировать\n",
    "# в найденных случаях заменяем основной ответ на дополнительный\n",
    "subs = pd.DataFrame({\n",
    "    \"preds_main\": faiss_search(index_main, test_main, pipe_main, 10), \n",
    "    \"preds_670\": faiss_search(index_670, test_670, pipe_670, 10)\n",
    "})\n",
    "\n",
    "subs[[\"dist_main\",\"dist_670\"]] = distance(subs[preds_name], test[include_main])\n",
    "\n",
    "subs[[\"6\", \"33\", \"44\", \"70\"]] = test[[\"6\", \"33\", \"44\", \"70\"]]\n",
    "subs[\"gbc_check\"] = gbc.predict_proba(subs[to_ml])[:, 1] > best_thresh\n",
    "\n",
    "subs[\"Predicted\"] = subs.preds_main\n",
    "subs.loc[subs.gbc_check, \"Predicted\"] = subs.preds_670 \n",
    "# замена потенциально неверных ответов на дополнительные добавила еще пару процентов "
   ]
  },
  {
   "cell_type": "code",
   "execution_count": 16,
   "id": "e7e55657-bb9c-49a1-b188-b6adbf125235",
   "metadata": {},
   "outputs": [],
   "source": [
    "# выводим файл с результатами\n",
    "subs[\"Predicted\"].to_csv(\"submission.csv\", index=\"Id\")\n",
    "try:\n",
    "    os.system('say predictions ready to submit');\n",
    "except:\n",
    "    pass\n"
   ]
  },
  {
   "cell_type": "code",
   "execution_count": null,
   "id": "306e58bc-a0a9-43b9-8408-6b7d6f12c838",
   "metadata": {},
   "outputs": [],
   "source": []
  }
 ],
 "metadata": {
  "kernelspec": {
   "display_name": "Python 3 (ipykernel)",
   "language": "python",
   "name": "python3"
  },
  "language_info": {
   "codemirror_mode": {
    "name": "ipython",
    "version": 3
   },
   "file_extension": ".py",
   "mimetype": "text/x-python",
   "name": "python",
   "nbconvert_exporter": "python",
   "pygments_lexer": "ipython3",
   "version": "3.11.3"
  }
 },
 "nbformat": 4,
 "nbformat_minor": 5
}
